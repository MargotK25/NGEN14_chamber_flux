{
 "cells": [
  {
   "cell_type": "markdown",
   "id": "e00dfa04-2eb3-4f19-96d3-20147459230e",
   "metadata": {},
   "source": [
    "# **Chamber flux calculations**"
   ]
  },
  {
   "cell_type": "code",
   "execution_count": 3,
   "id": "99014960-03a5-4b49-8f41-9f9e06696ae3",
   "metadata": {},
   "outputs": [],
   "source": [
    "%%capture\n",
    "\n",
    "# enable R magic for python\n",
    "%load_ext rpy2.ipython"
   ]
  },
  {
   "cell_type": "markdown",
   "id": "95a78814-6f64-4f6c-882e-5aeab01e76a9",
   "metadata": {},
   "source": [
    "## Install packages"
   ]
  },
  {
   "cell_type": "code",
   "execution_count": 180,
   "id": "b76da320-a330-4ebc-8f32-417f647aa0d9",
   "metadata": {},
   "outputs": [],
   "source": [
    "%%capture\n",
    "%%R\n",
    "\n",
    "if (require(\"readxl\") == F) {\n",
    "    install.packages(\"readxl\", quiet = T)\n",
    "}\n",
    "\n",
    "library(\"readxl\")\n",
    "\n",
    "if (require(\"stringr\") == F) {\n",
    "    install.packages(\"stringr\", quiet = T)\n",
    "}\n",
    "\n",
    "library(\"stringr\")\n",
    "\n",
    "if (require(\"ggplot2\") == F) {\n",
    "    install.packages(\"ggplot2\", quiet = T)\n",
    "}\n",
    "\n",
    "library(\"ggplot2\")\n"
   ]
  },
  {
   "cell_type": "markdown",
   "id": "3e17884f-ce1d-43b3-a283-7b7e295c5cf4",
   "metadata": {},
   "source": [
    "## Load data"
   ]
  },
  {
   "cell_type": "code",
   "execution_count": 186,
   "id": "08dc03fa-f994-4c47-a022-118f17faaefc",
   "metadata": {},
   "outputs": [],
   "source": [
    "%%capture \n",
    "%%R\n",
    "\n",
    "# Li-Cor data\n",
    "flux.data <- read.delim(\"Li-Cor.data\")\n",
    "flux.data <- flux.data[-1,]\n",
    "\n",
    "# start time, end time, height, air temperature, etc.\n",
    "info.data <- read_excel(\"data_info.xlsx\")"
   ]
  },
  {
   "cell_type": "markdown",
   "id": "83d9c4d3-a3c9-448f-bfcb-ef8c257a1485",
   "metadata": {},
   "source": [
    "## Extract data for each sample"
   ]
  },
  {
   "cell_type": "code",
   "execution_count": 268,
   "id": "16a92acb-e012-44cb-b24e-3c0033fd3ccd",
   "metadata": {},
   "outputs": [],
   "source": [
    "%%R\n",
    "\n",
    "sample.data <- data.frame(matrix(data = NA, nrow = 0, ncol = 5))\n",
    "\n",
    "for (i in 1:nrow(info.data)) {\n",
    "    temp <- flux.data[which(flux.data$TIME >= str_split(info.data$Start[i], \" \")[[1]][2] & flux.data$TIME <= str_split(info.data$End[i], \" \")[[1]][2]),]\n",
    "\n",
    "    temp <- data.frame(CO2 = as.numeric(temp$CO2),\n",
    "                       Tair = rep(info.data$Tair[i], nrow(temp)),\n",
    "                       Height = rep(info.data$Height[i], nrow(temp)),\n",
    "                       Timestep = seq(1, nrow(temp), 1),\n",
    "                       Sample = rep(i, nrow(temp)))\n",
    "\n",
    "    sample.data <- rbind(sample.data, temp)\n",
    "}"
   ]
  },
  {
   "cell_type": "markdown",
   "id": "256e87fe-c750-4cb8-af25-f8c39e7758f3",
   "metadata": {},
   "source": [
    "## Define function to calculate the fluxes"
   ]
  },
  {
   "cell_type": "code",
   "execution_count": 269,
   "id": "a3dcedac-2b2c-45fa-9f3e-b9e9c6384206",
   "metadata": {},
   "outputs": [],
   "source": [
    "%%R\n",
    "\n",
    "calc_flux <- function(info.data, indata, rmv_start, rmv_end) {\n",
    "    if (rmv_start >= 0 & rmv_end >= 0) {\n",
    "        indata <- indata[rmv_start:(nrow(indata)-rmv_end),]\n",
    "    } else if (rmv_start >= 0) {\n",
    "        indata <- indata[rmv_start:nrow(indata),]\n",
    "    } else if (rmv_end >= 0) {\n",
    "        indata <- indata[1:(nrow(indata)-rmv_end),]\n",
    "    } \n",
    "\n",
    "    ggplot(data = indata, aes(x = Timestep, y = CO2)) +\n",
    "    geom_point() +\n",
    "    ylab(\"CO2 [ppm]\") +\n",
    "    xlab(\"Time [seconds]\") +\n",
    "    geom_smooth(method = \"lm\", formula = y ~ x) +\n",
    "    theme_bw() -> p.new\n",
    "\n",
    "    print(p.new)\n",
    " \n",
    "    mod <- lm(CO2 ~ Timestep, indata)\n",
    "    cf <- coef(mod)\n",
    "\n",
    "    V <- (info.data$Height / 100) * pi * radius^2 # volume in m3\n",
    "\n",
    "    f.CO2 <- as.numeric(cf[2]) * (0.000987 * air.pressure * V) / (R * (info.data$Tair + 273.15) * A)\n",
    "\n",
    "    return(f.CO2)\n",
    "}"
   ]
  },
  {
   "cell_type": "markdown",
   "id": "35f151cd-36ba-45db-96c3-d4c3fe81060d",
   "metadata": {},
   "source": [
    "## Calculate the fluxes"
   ]
  },
  {
   "cell_type": "code",
   "execution_count": 271,
   "id": "e1277091-951b-435d-85f8-aa5657d32e49",
   "metadata": {},
   "outputs": [
    {
     "name": "stdout",
     "output_type": "stream",
     "text": [
      "[1] 9.97341\n"
     ]
    },
    {
     "data": {
      "image/png": "[encoded data removed]",
      "text/plain": [
       "<IPython.core.display.Image object>"
      ]
     },
     "metadata": {},
     "output_type": "display_data"
    }
   ],
   "source": [
    "%%R\n",
    "\n",
    "# Sample number\n",
    "i <- 1\n",
    "\n",
    "# Call calc_flux and remove data points at the start and/or at the end if necessary\n",
    "calc_flux(info.data = info.data[i,],\n",
    "          indata = sample.data[which(sample.data$Sample == i),],\n",
    "          rmv_start = 0,\n",
    "          rmv_end = 0)\n",
    "    "
   ]
  }
 ],
 "metadata": {
  "kernelspec": {
   "display_name": "Python 3 (ipykernel)",
   "language": "python",
   "name": "python3"
  },
  "language_info": {
   "codemirror_mode": {
    "name": "ipython",
    "version": 3
   },
   "file_extension": ".py",
   "mimetype": "text/x-python",
   "name": "python",
   "nbconvert_exporter": "python",
   "pygments_lexer": "ipython3",
   "version": "3.10.12"
  }
 },
 "nbformat": 4,
 "nbformat_minor": 5
}
